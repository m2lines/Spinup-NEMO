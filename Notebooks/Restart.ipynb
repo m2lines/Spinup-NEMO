{
 "cells": [
  {
   "cell_type": "code",
   "execution_count": 1,
   "id": "b7cde80b-3b01-42d6-9267-b61603c7bcd6",
   "metadata": {},
   "outputs": [],
   "source": [
    "import numpy as np\n",
    "import xarray as xr\n",
    "import sys\n",
    "\n",
    "sys.path.insert(0, \"/home/mtissot/SpinUp/jumper/lib\")\n",
    "import matplotlib.pyplot as plt"
   ]
  },
  {
   "cell_type": "markdown",
   "id": "3733f74b-5172-4176-8927-b51131be6013",
   "metadata": {},
   "source": [
    "# **LOAD RESTART FILES**"
   ]
  },
  {
   "cell_type": "code",
   "execution_count": null,
   "id": "7f5fa984-0bb5-4df8-8f1c-e10539f74e12",
   "metadata": {},
   "outputs": [],
   "source": [
    "dataset1 = xr.open_dataset(\n",
    "    \"/data/mtissot/infos4restart/data_restart/OCE_CM65v420-LR-CdL-pi-01_19141231_restart.nc\",\n",
    "    decode_times=False,\n",
    ")\n",
    "mask = xr.open_dataset(\n",
    "    \"/data/mtissot/infos4restart/eORCA1.4.2_mesh_mask_modJD.nc\", decode_times=False\n",
    ")\n",
    "dataset2 = xr.open_dataset(\n",
    "    \"/data/mtissot/infos4restart/data_restart/NEW_OCE_CM65v420-LR-CdL-pi-01_19141231_restart.nc\",\n",
    "    decode_times=False,\n",
    ")"
   ]
  },
  {
   "cell_type": "code",
   "execution_count": null,
   "id": "642bc6a4-c706-4cf0-9021-72b719038d0e",
   "metadata": {},
   "outputs": [],
   "source": [
    "print(\"restart features : \\n\", list(dataset2.keys()))\n",
    "print(\"\\nmask features : \\n\", list(mask.keys()))"
   ]
  },
  {
   "cell_type": "markdown",
   "id": "f334bcdc",
   "metadata": {},
   "source": [
    "# **ANALYSE TRUTH VS PREDICTIONS**"
   ]
  },
  {
   "cell_type": "markdown",
   "id": "8bdd0df6-8ce7-4b6b-be26-0354c08a415f",
   "metadata": {},
   "source": [
    "rhop,u,v,e3t,ssh,T,S."
   ]
  },
  {
   "cell_type": "markdown",
   "id": "6a222e93-a443-4054-a157-8768b96a3b87",
   "metadata": {},
   "source": [
    "### IN SITU DENSITY (rhop)"
   ]
  },
  {
   "cell_type": "code",
   "execution_count": null,
   "id": "dc4dd751-7740-4f6c-aaae-b44fe3c6b8b9",
   "metadata": {},
   "outputs": [],
   "source": [
    "new = dataset2.rhop.where(mask.tmask.values)\n",
    "old = dataset1.rhop.where(mask.tmask.values)\n",
    "\n",
    "diff_new = np.diff(new.isel(time_counter=0), axis=0)\n",
    "diff_old = np.diff(old.isel(time_counter=0), axis=0)\n",
    "\n",
    "val = [old[0], new[0]]\n",
    "diff = [diff_old, diff_new]"
   ]
  },
  {
   "cell_type": "code",
   "execution_count": null,
   "id": "063a406b-f1fc-44d7-bf3a-45c63ca27d1a",
   "metadata": {},
   "outputs": [],
   "source": [
    "fig = plt.figure(figsize=(4, 5))\n",
    "ax = plt.gca()\n",
    "\n",
    "ax.plot(\n",
    "    np.nanmean(val[0], axis=(1, 2)),\n",
    "    dataset1.nav_lev,\n",
    "    linestyle=\"dashed\",\n",
    "    color=\"black\",\n",
    "    alpha=0.7,\n",
    "    linewidth=3,\n",
    "    label=\"truth\",\n",
    ")\n",
    "ax.plot(\n",
    "    np.nanmean(val[1], axis=(1, 2)),\n",
    "    dataset2.nav_lev,\n",
    "    color=\"purple\",\n",
    "    alpha=0.8,\n",
    "    linewidth=2,\n",
    "    label=\"predictions\",\n",
    ")\n",
    "ax.invert_yaxis()\n",
    "ax.invert_xaxis()\n",
    "\n",
    "# ax.set_xlim(left=1)\n",
    "\n",
    "ax.yaxis.set_label_position(\"right\")\n",
    "ax.yaxis.tick_right()\n",
    "ax.legend()\n",
    "ax.set_title(\"Average\")\n",
    "plt.show()"
   ]
  },
  {
   "cell_type": "code",
   "execution_count": null,
   "id": "2b2b5ca2-7ba7-4409-bfd8-9da396e7a59b",
   "metadata": {},
   "outputs": [],
   "source": [
    "import matplotlib.pyplot as plt\n",
    "import numpy as np\n",
    "\n",
    "fig, axes = plt.subplots(1, 3, figsize=(9, 4))\n",
    "\n",
    "\n",
    "ax = axes[0]\n",
    "ax.plot(\n",
    "    np.nanmean(diff[0], axis=(1, 2)),\n",
    "    dataset1.nav_lev[:-1],\n",
    "    linestyle=\"dashed\",\n",
    "    color=\"black\",\n",
    "    alpha=0.7,\n",
    "    linewidth=3,\n",
    "    label=\"truth\",\n",
    ")\n",
    "ax.plot(\n",
    "    np.nanmean(diff[1], axis=(1, 2)),\n",
    "    dataset2.nav_lev[:-1],\n",
    "    color=\"purple\",\n",
    "    alpha=0.8,\n",
    "    linewidth=2,\n",
    "    label=\"predictions\",\n",
    ")\n",
    "ax.invert_yaxis()\n",
    "ax.invert_xaxis()\n",
    "ax.yaxis.tick_right()\n",
    "ax.legend()\n",
    "\n",
    "\n",
    "ax = axes[1]\n",
    "for i in range(0, 360, 40):\n",
    "    for j in range(0, 331, 28):\n",
    "        if not np.isnan(diff[0][:30, j, i]).any():\n",
    "            l = len(diff[0][:, j, i])\n",
    "            ax.plot(diff[0][:, j, i], dataset2.nav_lev[:l])\n",
    "ax.invert_yaxis()\n",
    "ax.invert_xaxis()\n",
    "ax.yaxis.tick_right()\n",
    "\n",
    "\n",
    "ax = axes[2]\n",
    "for i in range(0, 360, 30):\n",
    "    for j in range(0, 331, 28):\n",
    "        if not np.isnan(diff[1][:30, j, i]).any():\n",
    "            l = len(diff[1][:, j, i])\n",
    "            ax.plot(diff[1][:, j, i], dataset1.nav_lev[:l])\n",
    "ax.invert_yaxis()\n",
    "ax.invert_xaxis()\n",
    "ax.yaxis.tick_right()\n",
    "\n",
    "plt.tight_layout()\n",
    "plt.show()"
   ]
  },
  {
   "cell_type": "markdown",
   "id": "30480178-6612-49fe-b302-20f309f7cb7c",
   "metadata": {},
   "source": [
    "### U VELOCITIES"
   ]
  },
  {
   "cell_type": "code",
   "execution_count": null,
   "id": "7b9e842c-f1de-4ff8-bc12-d6ef2748bd6e",
   "metadata": {},
   "outputs": [],
   "source": [
    "new = dataset2.un.where(mask.umask.values)\n",
    "old = dataset1.un.where(mask.umask.values)\n",
    "\n",
    "diff_new = np.diff(new.isel(time_counter=0), axis=0)\n",
    "diff_old = np.diff(old.isel(time_counter=0), axis=0)\n",
    "\n",
    "val = [old[0], new[0]]\n",
    "diff = [diff_old, diff_new]"
   ]
  },
  {
   "cell_type": "code",
   "execution_count": null,
   "id": "8ef08ac1-26ea-4211-9e54-754b9ab198a4",
   "metadata": {},
   "outputs": [],
   "source": [
    "fig = plt.figure(figsize=(4, 5))\n",
    "ax = plt.gca()\n",
    "\n",
    "ax.plot(\n",
    "    np.nanmean(val[0], axis=(1, 2)),\n",
    "    dataset1.nav_lev,\n",
    "    linestyle=\"dashed\",\n",
    "    color=\"black\",\n",
    "    alpha=0.7,\n",
    "    linewidth=3,\n",
    "    label=\"truth\",\n",
    ")\n",
    "ax.plot(\n",
    "    np.nanmean(val[1], axis=(1, 2)),\n",
    "    dataset2.nav_lev,\n",
    "    color=\"purple\",\n",
    "    alpha=0.8,\n",
    "    linewidth=2,\n",
    "    label=\"predictions\",\n",
    ")\n",
    "ax.invert_yaxis()\n",
    "ax.invert_xaxis()\n",
    "\n",
    "# ax.set_xlim(left=1)\n",
    "\n",
    "ax.yaxis.set_label_position(\"right\")\n",
    "ax.yaxis.tick_right()\n",
    "ax.legend()\n",
    "plt.show()"
   ]
  },
  {
   "cell_type": "code",
   "execution_count": null,
   "id": "4d08052a-4fde-4b3a-a859-58afd6d56839",
   "metadata": {},
   "outputs": [],
   "source": [
    "fig = plt.figure(figsize=(4, 5))\n",
    "ax = plt.gca()\n",
    "\n",
    "# l = len(rhop_new[:,j,i])\n",
    "ax.plot(\n",
    "    np.nanmean(diff[0], axis=(1, 2)),\n",
    "    dataset1.nav_lev[:-1],\n",
    "    linestyle=\"dashed\",\n",
    "    color=\"black\",\n",
    "    alpha=0.7,\n",
    "    linewidth=3,\n",
    "    label=\"truth\",\n",
    ")\n",
    "ax.plot(\n",
    "    np.nanmean(diff[1], axis=(1, 2)),\n",
    "    dataset2.nav_lev[:-1],\n",
    "    color=\"purple\",\n",
    "    alpha=0.8,\n",
    "    linewidth=2,\n",
    "    label=\"predictions\",\n",
    ")\n",
    "ax.invert_yaxis()\n",
    "ax.invert_xaxis()\n",
    "\n",
    "# ax.set_xlim(left=1)\n",
    "\n",
    "ax.yaxis.set_label_position(\"right\")\n",
    "ax.yaxis.tick_right()\n",
    "ax.legend()\n",
    "plt.show()"
   ]
  },
  {
   "cell_type": "markdown",
   "id": "9d6f9536-3df9-4782-9df2-bcf00a3ec918",
   "metadata": {},
   "source": [
    "### V VELOCITIES"
   ]
  },
  {
   "cell_type": "code",
   "execution_count": null,
   "id": "bc767e27",
   "metadata": {},
   "outputs": [],
   "source": [
    "new = dataset2.vn.where(mask.vmask.values)\n",
    "old = dataset1.vn.where(mask.vmask.values)\n",
    "\n",
    "diff_new = np.diff(new.isel(time_counter=0), axis=0)\n",
    "diff_old = np.diff(old.isel(time_counter=0), axis=0)\n",
    "\n",
    "val = [old[0], new[0]]\n",
    "diff = [diff_old, diff_new]"
   ]
  },
  {
   "cell_type": "code",
   "execution_count": null,
   "id": "fa946b44-fed9-492f-ad37-447e16ff7c94",
   "metadata": {},
   "outputs": [],
   "source": [
    "fig = plt.figure(figsize=(4, 5))\n",
    "ax = plt.gca()\n",
    "\n",
    "ax.plot(\n",
    "    np.nanmean(val[0], axis=(1, 2)),\n",
    "    dataset1.nav_lev,\n",
    "    linestyle=\"dashed\",\n",
    "    color=\"black\",\n",
    "    alpha=0.7,\n",
    "    linewidth=3,\n",
    "    label=\"truth\",\n",
    ")\n",
    "ax.plot(\n",
    "    np.nanmean(val[1], axis=(1, 2)),\n",
    "    dataset2.nav_lev,\n",
    "    color=\"purple\",\n",
    "    alpha=0.8,\n",
    "    linewidth=2,\n",
    "    label=\"predictions\",\n",
    ")\n",
    "ax.invert_yaxis()\n",
    "ax.invert_xaxis()\n",
    "\n",
    "# ax.set_xlim(left=1)\n",
    "\n",
    "ax.yaxis.set_label_position(\"right\")\n",
    "ax.yaxis.tick_right()\n",
    "ax.legend()\n",
    "plt.show()"
   ]
  },
  {
   "cell_type": "code",
   "execution_count": null,
   "id": "66f6bfcf",
   "metadata": {},
   "outputs": [],
   "source": [
    "fig = plt.figure(figsize=(4, 5))\n",
    "ax = plt.gca()\n",
    "\n",
    "# l = len(rhop_new[:,j,i])\n",
    "ax.plot(\n",
    "    np.nanmean(diff[0], axis=(1, 2)),\n",
    "    dataset1.nav_lev[:-1],\n",
    "    linestyle=\"dashed\",\n",
    "    color=\"black\",\n",
    "    alpha=0.7,\n",
    "    linewidth=3,\n",
    "    label=\"truth\",\n",
    ")\n",
    "ax.plot(\n",
    "    np.nanmean(diff[1], axis=(1, 2)),\n",
    "    dataset2.nav_lev[:-1],\n",
    "    color=\"purple\",\n",
    "    alpha=0.8,\n",
    "    linewidth=2,\n",
    "    label=\"predictions\",\n",
    ")\n",
    "ax.invert_yaxis()\n",
    "ax.invert_xaxis()\n",
    "\n",
    "# ax.set_xlim(left=1)\n",
    "\n",
    "ax.yaxis.set_label_position(\"right\")\n",
    "ax.yaxis.tick_right()\n",
    "ax.legend()\n",
    "plt.show()"
   ]
  },
  {
   "cell_type": "markdown",
   "id": "7d7c4d53-86a4-452a-a74b-f1278df82dd1",
   "metadata": {},
   "source": [
    "----"
   ]
  }
 ],
 "metadata": {
  "kernelspec": {
   "display_name": "Python 3 (ipykernel)",
   "language": "python",
   "name": "python3"
  },
  "language_info": {
   "codemirror_mode": {
    "name": "ipython",
    "version": 3
   },
   "file_extension": ".py",
   "mimetype": "text/x-python",
   "name": "python",
   "nbconvert_exporter": "python",
   "pygments_lexer": "ipython3",
   "version": "3.9.12"
  }
 },
 "nbformat": 4,
 "nbformat_minor": 5
}
